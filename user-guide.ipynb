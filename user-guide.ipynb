{
 "cells": [
  {
   "cell_type": "markdown",
   "source": [
    "# Cetino User Guide"
   ],
   "metadata": {
    "collapsed": false
   }
  },
  {
   "cell_type": "markdown",
   "source": [
    "## 1. Define a Table Storage class"
   ],
   "metadata": {
    "collapsed": false
   }
  },
  {
   "cell_type": "code",
   "execution_count": 91,
   "outputs": [],
   "source": [
    "from cetino.db.sqlite.type import SQLiteDataType # You can use other database type, such as MySQLDataType\n",
    "from cetino.db.sqlite.table_storage import SQLiteTableStorage\n",
    "\n",
    "\n",
    "class StudentTableStorage(SQLiteTableStorage):\n",
    "    \"\"\"\n",
    "    SQLiteTableStorage is an abstract class, we always define a subclass to use it.\n",
    "\n",
    "    To define a subclass, you must define:\n",
    "    - `fields`: a dict, key is field name, value is field type\n",
    "    - `table_name`: a string, the name of the table\n",
    "\n",
    "    The following are optional:\n",
    "    - `primary_key_tuple`: a tuple, the primary key of the table, default is (\"_id\", )\n",
    "    - `unique_tuple`: a tuple, the unique key of the table, default is ()\n",
    "\n",
    "    \"\"\"\n",
    "    # You must define `fields` and `table_name`\n",
    "    @property\n",
    "    def fields(self)-> dict:\n",
    "        return {\n",
    "            \"student_id\": SQLiteDataType.INTEGER,\n",
    "            \"name\": SQLiteDataType.TEXT,\n",
    "            \"age\": SQLiteDataType.INTEGER,\n",
    "        }\n",
    "\n",
    "    @property\n",
    "    def table_name(self)-> str:\n",
    "        return \"student\"\n",
    "\n",
    "    # The following are optional\n",
    "    primary_key_tuple = (\"student_id\", )  # default will be (\"_id\", )\n",
    "\n",
    "    # unique_tuple = ()"
   ],
   "metadata": {
    "collapsed": false
   }
  },
  {
   "cell_type": "markdown",
   "source": [
    "## 2. Create a Table Storage instance to link to a database file"
   ],
   "metadata": {
    "collapsed": false
   }
  },
  {
   "cell_type": "code",
   "execution_count": 92,
   "outputs": [
    {
     "data": {
      "text/plain": "StudentTableStorage(test_db.sqlite)"
     },
     "execution_count": 92,
     "metadata": {},
     "output_type": "execute_result"
    }
   ],
   "source": [
    "db_file = \"./test_db.sqlite\"\n",
    "student_storage = StudentTableStorage(db_file, log_path=\"./test_db.log\")\n",
    "\n",
    "student_storage"
   ],
   "metadata": {
    "collapsed": false
   }
  },
  {
   "cell_type": "markdown",
   "source": [
    "## 3. Manipulating the database always in a `with` block"
   ],
   "metadata": {
    "collapsed": false
   }
  },
  {
   "cell_type": "code",
   "execution_count": 94,
   "outputs": [
    {
     "name": "stdout",
     "output_type": "stream",
     "text": [
      "[{'student_id': 1, 'name': 'John', 'age': 20}]\n"
     ]
    }
   ],
   "source": [
    "with student_storage:\n",
    "    student_storage.drop(allow_not_exist=True)\n",
    "    student_storage.create(allow_exist=False)\n",
    "    student_storage.insert(\n",
    "        {\n",
    "            \"student_id\": 1,\n",
    "            \"name\": \"John\",\n",
    "            \"age\": 20,\n",
    "        }\n",
    "    )\n",
    "    print(student_storage.query())"
   ],
   "metadata": {
    "collapsed": false
   }
  },
  {
   "cell_type": "markdown",
   "source": [
    "You can check out some metadata of the table storage:"
   ],
   "metadata": {
    "collapsed": false
   }
  },
  {
   "cell_type": "code",
   "execution_count": 95,
   "outputs": [
    {
     "name": "stdout",
     "output_type": "stream",
     "text": [
      "CREATE TABLE student (\n",
      "student_id INTEGER,\n",
      "name TEXT,\n",
      "age INTEGER,\n",
      "PRIMARY KEY (student_id)\n",
      ");\n"
     ]
    }
   ],
   "source": [
    "print(student_storage.ddl)"
   ],
   "metadata": {
    "collapsed": false
   }
  },
  {
   "cell_type": "code",
   "execution_count": 96,
   "outputs": [
    {
     "name": "stdout",
     "output_type": "stream",
     "text": [
      "student\n"
     ]
    }
   ],
   "source": [
    "print(student_storage.table_name)"
   ],
   "metadata": {
    "collapsed": false
   }
  }
 ],
 "metadata": {
  "kernelspec": {
   "display_name": "Python 3",
   "language": "python",
   "name": "python3"
  },
  "language_info": {
   "codemirror_mode": {
    "name": "ipython",
    "version": 2
   },
   "file_extension": ".py",
   "mimetype": "text/x-python",
   "name": "python",
   "nbconvert_exporter": "python",
   "pygments_lexer": "ipython2",
   "version": "2.7.6"
  }
 },
 "nbformat": 4,
 "nbformat_minor": 0
}
